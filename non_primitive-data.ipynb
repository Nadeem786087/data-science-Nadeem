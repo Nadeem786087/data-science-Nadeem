{
 "cells": [
  {
   "cell_type": "markdown",
   "metadata": {},
   "source": [
    "# source ~/.bashrc\n",
    " whenever isssue in terminal\n",
    " "
   ]
  },
  {
   "cell_type": "markdown",
   "metadata": {},
   "source": [
    "# **Non-Primitive Data Structures**"
   ]
  },
  {
   "cell_type": "markdown",
   "metadata": {},
   "source": [
    "## Intro\n",
    "\n",
    "* simple example is that a teacher taking viva of two students at the same time.\n",
    "* Non-Primitive Data Structures are divided into two main categories:\n",
    "    * Linear Data Structures:\n",
    "These organize data in a sequential manner.\n",
    "a) Static:\n",
    "\n",
    "Array: In Python, this is similar to a list, but with a fixed size.\n",
    "Example: my_array = [1, 2, 3, 4, 5]\n",
    "\n",
    "b) Dynamic:\n",
    "\n",
    "Linked List: A sequence of elements where each element points to the next.\n",
    "Stack: Think of it like a stack of plates - last in, first out (LIFO).\n",
    "Example:"
   ]
  },
  {
   "cell_type": "markdown",
   "metadata": {},
   "source": [
    "## **Array**"
   ]
  },
  {
   "cell_type": "markdown",
   "metadata": {},
   "source": [
    "### Array (implemented as List in Python):\n",
    "\n",
    "An array is a collection of elements stored at contiguous(akatha bethna) memory locations.\n",
    "In Python, we use lists which are dynamic arrays.\n",
    "\n",
    "Step-by-step:\n",
    "\n",
    "a. Create an array (list)\n",
    "\n",
    "b. Access elements\n",
    "\n",
    "c. Modify elements\n",
    "\n",
    "d. Add/remove elements\n",
    "\n",
    "Python code will be :"
   ]
  },
  {
   "cell_type": "code",
   "execution_count": 1,
   "metadata": {},
   "outputs": [],
   "source": [
    "arr = [1, 2, 3, 4]"
   ]
  },
  {
   "cell_type": "code",
   "execution_count": 2,
   "metadata": {},
   "outputs": [
    {
     "name": "stdout",
     "output_type": "stream",
     "text": [
      "1\n"
     ]
    }
   ],
   "source": [
    "print(arr[0])"
   ]
  },
  {
   "cell_type": "code",
   "execution_count": 3,
   "metadata": {},
   "outputs": [],
   "source": [
    "arr[1] = 10"
   ]
  },
  {
   "cell_type": "code",
   "execution_count": 6,
   "metadata": {},
   "outputs": [],
   "source": [
    "# append to (add to the end)\n",
    "# It's like adding a new box at the end of the row\n",
    "arr.append(12)"
   ]
  },
  {
   "cell_type": "code",
   "execution_count": 8,
   "metadata": {},
   "outputs": [],
   "source": [
    "# Insert (Add at a specific position):\n",
    "\n",
    "# It's like squeezing a new box into any position in the row.\n",
    "arr.insert(1,78)"
   ]
  },
  {
   "cell_type": "code",
   "execution_count": 9,
   "metadata": {},
   "outputs": [],
   "source": [
    "arr.append(90)"
   ]
  },
  {
   "cell_type": "code",
   "execution_count": 10,
   "metadata": {},
   "outputs": [],
   "source": [
    "arr.append(230)"
   ]
  },
  {
   "cell_type": "code",
   "execution_count": 11,
   "metadata": {},
   "outputs": [],
   "source": [
    "arr.insert(0,23)"
   ]
  },
  {
   "cell_type": "code",
   "execution_count": 12,
   "metadata": {},
   "outputs": [],
   "source": [
    "arr.insert(230,20)"
   ]
  },
  {
   "cell_type": "code",
   "execution_count": 13,
   "metadata": {},
   "outputs": [],
   "source": [
    "# Pop (Remove from the end or a specific index):\n",
    "\n",
    "# It's like taking away the last box, or any specific box you choose\n",
    "removed = arr.pop(0)"
   ]
  },
  {
   "cell_type": "code",
   "execution_count": 14,
   "metadata": {},
   "outputs": [],
   "source": [
    "removed = arr.pop(1)"
   ]
  },
  {
   "cell_type": "code",
   "execution_count": 15,
   "metadata": {},
   "outputs": [],
   "source": [
    "removed = arr.pop(2)"
   ]
  },
  {
   "cell_type": "code",
   "execution_count": 18,
   "metadata": {},
   "outputs": [],
   "source": [
    "removed = arr.pop(5)"
   ]
  },
  {
   "cell_type": "code",
   "execution_count": 20,
   "metadata": {},
   "outputs": [],
   "source": [
    "removed = arr.pop(7)"
   ]
  },
  {
   "cell_type": "code",
   "execution_count": 26,
   "metadata": {},
   "outputs": [],
   "source": [
    "# Remove (Remove a specific item):\n",
    "\n",
    "# It's like finding a specific box and taking it out.\n",
    "arr.remove(12)"
   ]
  },
  {
   "cell_type": "code",
   "execution_count": 24,
   "metadata": {},
   "outputs": [
    {
     "name": "stdout",
     "output_type": "stream",
     "text": [
      "['apple', 'cherry']\n"
     ]
    }
   ],
   "source": [
    "fruits = [\"apple\", \"banana\", \"cherry\"]\n",
    "fruits.remove(\"banana\")\n",
    "print(fruits)  # [\"apple\", \"cherry\"]"
   ]
  },
  {
   "cell_type": "code",
   "execution_count": 28,
   "metadata": {},
   "outputs": [
    {
     "name": "stdout",
     "output_type": "stream",
     "text": [
      "['sgh', 'deh', 'dtyu', 'chery']\n"
     ]
    }
   ],
   "source": [
    "fruits = [\"sgh\", \"deh\", \"chery\"]\n",
    "fruits.insert(2,\"dtyu\")\n",
    "print(fruits)"
   ]
  },
  {
   "cell_type": "code",
   "execution_count": 29,
   "metadata": {},
   "outputs": [
    {
     "name": "stdout",
     "output_type": "stream",
     "text": [
      "['sgh', 'deh', 'chery', 'dtyu']\n"
     ]
    }
   ],
   "source": [
    "fruits = [\"sgh\", \"deh\", \"chery\"]\n",
    "fruits.append(\"dtyu\")\n",
    "print(fruits)"
   ]
  },
  {
   "cell_type": "code",
   "execution_count": 32,
   "metadata": {},
   "outputs": [
    {
     "data": {
      "text/plain": [
       "'orange'"
      ]
     },
     "execution_count": 32,
     "metadata": {},
     "output_type": "execute_result"
    }
   ],
   "source": [
    "fruits = [\"apple\" , \"bananas\" , \"orange\"]\n",
    "fruits[2]\n"
   ]
  },
  {
   "cell_type": "code",
   "execution_count": 33,
   "metadata": {},
   "outputs": [
    {
     "data": {
      "text/plain": [
       "'bananas'"
      ]
     },
     "execution_count": 33,
     "metadata": {},
     "output_type": "execute_result"
    }
   ],
   "source": [
    "fruits[1]\n"
   ]
  },
  {
   "cell_type": "code",
   "execution_count": 35,
   "metadata": {},
   "outputs": [
    {
     "name": "stdout",
     "output_type": "stream",
     "text": [
      "['apple', 'bananas', 'orange', 'Grapes', 'Grapes']\n"
     ]
    }
   ],
   "source": [
    "fruits.append(\"Grapes\")\n",
    "print(fruits)"
   ]
  },
  {
   "cell_type": "code",
   "execution_count": 37,
   "metadata": {},
   "outputs": [
    {
     "name": "stdout",
     "output_type": "stream",
     "text": [
      "['apple', 'cherry', 'cherry', 'bananas', 'orange', 'Grapes', 'Grapes']\n"
     ]
    }
   ],
   "source": [
    "fruits.insert(1,\"cherry\")\n",
    "print(fruits)"
   ]
  },
  {
   "cell_type": "code",
   "execution_count": 39,
   "metadata": {},
   "outputs": [
    {
     "name": "stdout",
     "output_type": "stream",
     "text": [
      "['apple', 'cherry', 'cherry', 'bananas', 'orange']\n"
     ]
    }
   ],
   "source": [
    "fruits.pop()\n",
    "print(fruits)"
   ]
  },
  {
   "cell_type": "code",
   "execution_count": 40,
   "metadata": {},
   "outputs": [
    {
     "data": {
      "text/plain": [
       "'bananas'"
      ]
     },
     "execution_count": 40,
     "metadata": {},
     "output_type": "execute_result"
    }
   ],
   "source": [
    "fruits.pop(3)"
   ]
  },
  {
   "cell_type": "code",
   "execution_count": 42,
   "metadata": {},
   "outputs": [
    {
     "data": {
      "text/plain": [
       "'cherry'"
      ]
     },
     "execution_count": 42,
     "metadata": {},
     "output_type": "execute_result"
    }
   ],
   "source": [
    "fruits.pop(2)"
   ]
  },
  {
   "cell_type": "code",
   "execution_count": 51,
   "metadata": {},
   "outputs": [
    {
     "name": "stdout",
     "output_type": "stream",
     "text": [
      "apple\n"
     ]
    }
   ],
   "source": [
    "removed = fruits.pop(0)\n",
    "print(removed)"
   ]
  },
  {
   "cell_type": "code",
   "execution_count": 61,
   "metadata": {},
   "outputs": [
    {
     "name": "stdout",
     "output_type": "stream",
     "text": [
      "['cherry', 'cherry', 'cherry']\n"
     ]
    }
   ],
   "source": [
    "fruits.insert(1,\"cherry\")\n",
    "print(fruits)"
   ]
  },
  {
   "cell_type": "code",
   "execution_count": 63,
   "metadata": {},
   "outputs": [
    {
     "name": "stdout",
     "output_type": "stream",
     "text": [
      "['cherry']\n"
     ]
    }
   ],
   "source": [
    "fruits.remove(\"cherry\")\n",
    "print(fruits)"
   ]
  },
  {
   "cell_type": "markdown",
   "metadata": {},
   "source": [
    "To make\n",
    "arr = [------]\n",
    "to acess\n",
    "arr[0]\n",
    "arr[1]\n",
    "to modify\n",
    "arr[1] = 2\n",
    "arr[0] = 4\n",
    "to add\n",
    "arr.append(3)\n",
    "arr.insert(1,4)\n",
    "to remove\n",
    "arr.pop(3)\n",
    "arr.remove(2)\n",
    "\n",
    "### Remember:\n",
    "\n",
    "append() and pop() (without index) are fastest because they work at the end of the list.\n",
    "insert(), pop(index), and remove() might be slower for large lists because they may need to shift other elements.\n",
    "\n",
    "This way of managing lists is very flexible and common in Python programming, especially for beginners. As you get more comfortable, you'll find these operations useful in many different scenarios!"
   ]
  },
  {
   "cell_type": "markdown",
   "metadata": {},
   "source": [
    "# Linked List"
   ]
  },
  {
   "cell_type": "markdown",
   "metadata": {},
   "source": [
    "A linked list consists of nodes where each node contains data and a reference (link) to the next node.\n",
    "\n",
    "Step-by-step:\n",
    "a. Define a Node class\n",
    "b. Create a LinkedList class\n",
    "c. Implement methods to add and display nodes\n",
    "Python code"
   ]
  }
 ],
 "metadata": {
  "kernelspec": {
   "display_name": "Python 3",
   "language": "python",
   "name": "python3"
  },
  "language_info": {
   "codemirror_mode": {
    "name": "ipython",
    "version": 3
   },
   "file_extension": ".py",
   "mimetype": "text/x-python",
   "name": "python",
   "nbconvert_exporter": "python",
   "pygments_lexer": "ipython3",
   "version": "3.12.7"
  }
 },
 "nbformat": 4,
 "nbformat_minor": 2
}
